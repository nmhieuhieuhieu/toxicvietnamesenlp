{
 "cells": [
  {
   "cell_type": "code",
   "execution_count": 1,
   "metadata": {},
   "outputs": [
    {
     "name": "stdout",
     "output_type": "stream",
     "text": [
      "Requirement already satisfied: transformers in c:\\users\\admin\\appdata\\local\\programs\\python\\python311\\lib\\site-packages (4.44.2)\n",
      "Requirement already satisfied: filelock in c:\\users\\admin\\appdata\\local\\programs\\python\\python311\\lib\\site-packages (from transformers) (3.14.0)\n",
      "Requirement already satisfied: huggingface-hub<1.0,>=0.23.2 in c:\\users\\admin\\appdata\\local\\programs\\python\\python311\\lib\\site-packages (from transformers) (0.25.0)\n",
      "Requirement already satisfied: numpy>=1.17 in c:\\users\\admin\\appdata\\local\\programs\\python\\python311\\lib\\site-packages (from transformers) (1.26.0)\n",
      "Requirement already satisfied: packaging>=20.0 in c:\\users\\admin\\appdata\\local\\programs\\python\\python311\\lib\\site-packages (from transformers) (23.1)\n",
      "Requirement already satisfied: pyyaml>=5.1 in c:\\users\\admin\\appdata\\local\\programs\\python\\python311\\lib\\site-packages (from transformers) (6.0.1)\n",
      "Requirement already satisfied: regex!=2019.12.17 in c:\\users\\admin\\appdata\\local\\programs\\python\\python311\\lib\\site-packages (from transformers) (2024.9.11)\n",
      "Requirement already satisfied: requests in c:\\users\\admin\\appdata\\local\\programs\\python\\python311\\lib\\site-packages (from transformers) (2.32.3)\n",
      "Requirement already satisfied: safetensors>=0.4.1 in c:\\users\\admin\\appdata\\local\\programs\\python\\python311\\lib\\site-packages (from transformers) (0.4.5)\n",
      "Requirement already satisfied: tokenizers<0.20,>=0.19 in c:\\users\\admin\\appdata\\local\\programs\\python\\python311\\lib\\site-packages (from transformers) (0.19.1)\n",
      "Requirement already satisfied: tqdm>=4.27 in c:\\users\\admin\\appdata\\local\\programs\\python\\python311\\lib\\site-packages (from transformers) (4.66.5)\n",
      "Requirement already satisfied: fsspec>=2023.5.0 in c:\\users\\admin\\appdata\\local\\programs\\python\\python311\\lib\\site-packages (from huggingface-hub<1.0,>=0.23.2->transformers) (2024.5.0)\n",
      "Requirement already satisfied: typing-extensions>=3.7.4.3 in c:\\users\\admin\\appdata\\local\\programs\\python\\python311\\lib\\site-packages (from huggingface-hub<1.0,>=0.23.2->transformers) (4.12.2)\n",
      "Requirement already satisfied: colorama in c:\\users\\admin\\appdata\\local\\programs\\python\\python311\\lib\\site-packages (from tqdm>=4.27->transformers) (0.4.6)\n",
      "Requirement already satisfied: charset-normalizer<4,>=2 in c:\\users\\admin\\appdata\\local\\programs\\python\\python311\\lib\\site-packages (from requests->transformers) (3.2.0)\n",
      "Requirement already satisfied: idna<4,>=2.5 in c:\\users\\admin\\appdata\\local\\programs\\python\\python311\\lib\\site-packages (from requests->transformers) (3.4)\n",
      "Requirement already satisfied: urllib3<3,>=1.21.1 in c:\\users\\admin\\appdata\\local\\programs\\python\\python311\\lib\\site-packages (from requests->transformers) (2.0.4)\n",
      "Requirement already satisfied: certifi>=2017.4.17 in c:\\users\\admin\\appdata\\local\\programs\\python\\python311\\lib\\site-packages (from requests->transformers) (2023.7.22)\n"
     ]
    },
    {
     "name": "stderr",
     "output_type": "stream",
     "text": [
      "\n",
      "[notice] A new release of pip is available: 24.0 -> 24.2\n",
      "[notice] To update, run: python.exe -m pip install --upgrade pip\n"
     ]
    },
    {
     "name": "stdout",
     "output_type": "stream",
     "text": [
      "Requirement already satisfied: torchtext in c:\\users\\admin\\appdata\\local\\programs\\python\\python311\\lib\\site-packages (0.18.0)\n",
      "Requirement already satisfied: tqdm in c:\\users\\admin\\appdata\\local\\programs\\python\\python311\\lib\\site-packages (from torchtext) (4.66.5)\n",
      "Requirement already satisfied: requests in c:\\users\\admin\\appdata\\local\\programs\\python\\python311\\lib\\site-packages (from torchtext) (2.32.3)\n",
      "Requirement already satisfied: torch>=2.3.0 in c:\\users\\admin\\appdata\\local\\programs\\python\\python311\\lib\\site-packages (from torchtext) (2.3.0)\n",
      "Requirement already satisfied: numpy in c:\\users\\admin\\appdata\\local\\programs\\python\\python311\\lib\\site-packages (from torchtext) (1.26.0)\n",
      "Requirement already satisfied: filelock in c:\\users\\admin\\appdata\\local\\programs\\python\\python311\\lib\\site-packages (from torch>=2.3.0->torchtext) (3.14.0)\n",
      "Requirement already satisfied: typing-extensions>=4.8.0 in c:\\users\\admin\\appdata\\local\\programs\\python\\python311\\lib\\site-packages (from torch>=2.3.0->torchtext) (4.12.2)\n",
      "Requirement already satisfied: sympy in c:\\users\\admin\\appdata\\local\\programs\\python\\python311\\lib\\site-packages (from torch>=2.3.0->torchtext) (1.12)\n",
      "Requirement already satisfied: networkx in c:\\users\\admin\\appdata\\local\\programs\\python\\python311\\lib\\site-packages (from torch>=2.3.0->torchtext) (3.3)\n",
      "Requirement already satisfied: jinja2 in c:\\users\\admin\\appdata\\local\\programs\\python\\python311\\lib\\site-packages (from torch>=2.3.0->torchtext) (3.1.3)\n",
      "Requirement already satisfied: fsspec in c:\\users\\admin\\appdata\\local\\programs\\python\\python311\\lib\\site-packages (from torch>=2.3.0->torchtext) (2024.5.0)\n",
      "Requirement already satisfied: mkl<=2021.4.0,>=2021.1.1 in c:\\users\\admin\\appdata\\local\\programs\\python\\python311\\lib\\site-packages (from torch>=2.3.0->torchtext) (2021.4.0)\n",
      "Requirement already satisfied: charset-normalizer<4,>=2 in c:\\users\\admin\\appdata\\local\\programs\\python\\python311\\lib\\site-packages (from requests->torchtext) (3.2.0)\n",
      "Requirement already satisfied: idna<4,>=2.5 in c:\\users\\admin\\appdata\\local\\programs\\python\\python311\\lib\\site-packages (from requests->torchtext) (3.4)\n",
      "Requirement already satisfied: urllib3<3,>=1.21.1 in c:\\users\\admin\\appdata\\local\\programs\\python\\python311\\lib\\site-packages (from requests->torchtext) (2.0.4)\n",
      "Requirement already satisfied: certifi>=2017.4.17 in c:\\users\\admin\\appdata\\local\\programs\\python\\python311\\lib\\site-packages (from requests->torchtext) (2023.7.22)\n",
      "Requirement already satisfied: colorama in c:\\users\\admin\\appdata\\local\\programs\\python\\python311\\lib\\site-packages (from tqdm->torchtext) (0.4.6)\n",
      "Requirement already satisfied: intel-openmp==2021.* in c:\\users\\admin\\appdata\\local\\programs\\python\\python311\\lib\\site-packages (from mkl<=2021.4.0,>=2021.1.1->torch>=2.3.0->torchtext) (2021.4.0)\n",
      "Requirement already satisfied: tbb==2021.* in c:\\users\\admin\\appdata\\local\\programs\\python\\python311\\lib\\site-packages (from mkl<=2021.4.0,>=2021.1.1->torch>=2.3.0->torchtext) (2021.12.0)\n",
      "Requirement already satisfied: MarkupSafe>=2.0 in c:\\users\\admin\\appdata\\local\\programs\\python\\python311\\lib\\site-packages (from jinja2->torch>=2.3.0->torchtext) (2.1.3)\n",
      "Requirement already satisfied: mpmath>=0.19 in c:\\users\\admin\\appdata\\local\\programs\\python\\python311\\lib\\site-packages (from sympy->torch>=2.3.0->torchtext) (1.3.0)\n"
     ]
    },
    {
     "name": "stderr",
     "output_type": "stream",
     "text": [
      "\n",
      "[notice] A new release of pip is available: 24.0 -> 24.2\n",
      "[notice] To update, run: python.exe -m pip install --upgrade pip\n"
     ]
    }
   ],
   "source": [
    "!pip install transformers\n",
    "!pip install torchtext"
   ]
  },
  {
   "cell_type": "code",
   "execution_count": 1,
   "metadata": {},
   "outputs": [],
   "source": [
    "import numpy as np\n",
    "import pandas as pd\n",
    "\n",
    "train = pd.read_csv('train.csv')\n",
    "dev = pd.read_csv('val.csv')\n",
    "test = pd.read_csv('test.csv')\n",
    "\n",
    "\n",
    "train['text'] = train['text'].astype(str)\n",
    "X_train = train['text']\n",
    "y_train = train[\"label\"]\n",
    "\n",
    "dev['text'] = dev['text'].astype(str)\n",
    "X_valid = dev['text']\n",
    "y_valid = dev['label']\n",
    "\n",
    "test['text'] = test['text'].astype(str)\n",
    "X_test = test['text']\n",
    "y_test = test['label']"
   ]
  },
  {
   "cell_type": "code",
   "execution_count": 2,
   "metadata": {},
   "outputs": [
    {
     "name": "stderr",
     "output_type": "stream",
     "text": [
      "c:\\Users\\ADMIN\\AppData\\Local\\Programs\\Python\\Python311\\Lib\\site-packages\\torchtext\\data\\__init__.py:4: UserWarning: \n",
      "/!\\ IMPORTANT WARNING ABOUT TORCHTEXT STATUS /!\\ \n",
      "Torchtext is deprecated and the last released version will be 0.18 (this one). You can silence this warning by calling the following at the beginnign of your scripts: `import torchtext; torchtext.disable_torchtext_deprecation_warning()`\n",
      "  warnings.warn(torchtext._TORCHTEXT_DEPRECATION_MSG)\n",
      "c:\\Users\\ADMIN\\AppData\\Local\\Programs\\Python\\Python311\\Lib\\site-packages\\torchtext\\datasets\\__init__.py:4: UserWarning: \n",
      "/!\\ IMPORTANT WARNING ABOUT TORCHTEXT STATUS /!\\ \n",
      "Torchtext is deprecated and the last released version will be 0.18 (this one). You can silence this warning by calling the following at the beginnign of your scripts: `import torchtext; torchtext.disable_torchtext_deprecation_warning()`\n",
      "  warnings.warn(torchtext._TORCHTEXT_DEPRECATION_MSG)\n"
     ]
    },
    {
     "data": {
      "text/plain": [
       "False"
      ]
     },
     "execution_count": 2,
     "metadata": {},
     "output_type": "execute_result"
    }
   ],
   "source": [
    "import torch\n",
    "from torchtext import data\n",
    "from torchtext import datasets\n",
    "import random\n",
    "import numpy as np\n",
    "\n",
    "SEED = 1234\n",
    "\n",
    "random.seed(SEED)\n",
    "np.random.seed(SEED)\n",
    "torch.manual_seed(SEED)\n",
    "torch.backends.cudnn.deterministic = True\n",
    "\n",
    "torch.cuda.is_available()"
   ]
  },
  {
   "cell_type": "code",
   "execution_count": 3,
   "metadata": {},
   "outputs": [],
   "source": [
    "import pandas as pd\n",
    "from glob import glob\n",
    "\n",
    "train_sentences = list(train['text'].values)\n",
    "train_labels = list(train['label'].values)\n",
    "\n",
    "dev_sentences = list(dev['text'].values)\n",
    "dev_labels = list(dev['label'].values)\n",
    "\n",
    "test_sentences = list(test['text'].values)\n",
    "test_labels = list(test['label'].values)"
   ]
  },
  {
   "cell_type": "code",
   "execution_count": 6,
   "metadata": {},
   "outputs": [
    {
     "data": {
      "text/plain": [
       "[1.0, 0.0, 1.0, 0.0, 1.0, 0.0, 0.0, 0.0, 0.0, 0.0]"
      ]
     },
     "execution_count": 6,
     "metadata": {},
     "output_type": "execute_result"
    }
   ],
   "source": [
    "train_labels[:10]"
   ]
  },
  {
   "cell_type": "code",
   "execution_count": 4,
   "metadata": {},
   "outputs": [
    {
     "name": "stderr",
     "output_type": "stream",
     "text": [
      "c:\\Users\\ADMIN\\AppData\\Local\\Programs\\Python\\Python311\\Lib\\site-packages\\transformers\\tokenization_utils_base.py:1601: FutureWarning: `clean_up_tokenization_spaces` was not set. It will be set to `True` by default. This behavior will be depracted in transformers v4.45, and will be then set to `False` by default. For more details check this issue: https://github.com/huggingface/transformers/issues/31884\n",
      "  warnings.warn(\n"
     ]
    }
   ],
   "source": [
    "from transformers import AutoTokenizer\n",
    "\n",
    "tokenizer = AutoTokenizer.from_pretrained('vinai/phobert-base')"
   ]
  },
  {
   "cell_type": "code",
   "execution_count": 5,
   "metadata": {},
   "outputs": [
    {
     "data": {
      "text/plain": [
       "[(4, 3302),\n",
       " (5, 3270),\n",
       " (6, 3204),\n",
       " (3, 2984),\n",
       " (7, 2835),\n",
       " (8, 2602),\n",
       " (9, 2247),\n",
       " (2, 2242),\n",
       " (10, 1952),\n",
       " (11, 1623),\n",
       " (12, 1384),\n",
       " (13, 1225),\n",
       " (14, 1085),\n",
       " (15, 946),\n",
       " (16, 837),\n",
       " (17, 762),\n",
       " (1, 756),\n",
       " (18, 698),\n",
       " (19, 645),\n",
       " (20, 590),\n",
       " (21, 554),\n",
       " (23, 520),\n",
       " (22, 504),\n",
       " (24, 435),\n",
       " (26, 416),\n",
       " (25, 396),\n",
       " (27, 392),\n",
       " (28, 354),\n",
       " (29, 341),\n",
       " (30, 327),\n",
       " (31, 317),\n",
       " (32, 308),\n",
       " (33, 295),\n",
       " (41, 273),\n",
       " (37, 268),\n",
       " (34, 266),\n",
       " (36, 265),\n",
       " (42, 250),\n",
       " (35, 249),\n",
       " (40, 245),\n",
       " (39, 241),\n",
       " (38, 214),\n",
       " (43, 213),\n",
       " (48, 211),\n",
       " (45, 211),\n",
       " (44, 207),\n",
       " (46, 207),\n",
       " (47, 182),\n",
       " (50, 175),\n",
       " (49, 169),\n",
       " (52, 165),\n",
       " (51, 163),\n",
       " (54, 161),\n",
       " (56, 158),\n",
       " (57, 152),\n",
       " (53, 147),\n",
       " (58, 143),\n",
       " (59, 136),\n",
       " (55, 134),\n",
       " (61, 125),\n",
       " (64, 118),\n",
       " (60, 115),\n",
       " (62, 110),\n",
       " (63, 108),\n",
       " (65, 108),\n",
       " (71, 99),\n",
       " (69, 96),\n",
       " (67, 95),\n",
       " (70, 91),\n",
       " (68, 89),\n",
       " (72, 86),\n",
       " (66, 82),\n",
       " (75, 81),\n",
       " (74, 80),\n",
       " (73, 79),\n",
       " (84, 78),\n",
       " (77, 69),\n",
       " (78, 69),\n",
       " (83, 67),\n",
       " (81, 64),\n",
       " (76, 63),\n",
       " (87, 61),\n",
       " (79, 59),\n",
       " (86, 59),\n",
       " (80, 58),\n",
       " (82, 54),\n",
       " (92, 53),\n",
       " (88, 51),\n",
       " (85, 49),\n",
       " (89, 45),\n",
       " (90, 43),\n",
       " (94, 43),\n",
       " (93, 39),\n",
       " (91, 37),\n",
       " (96, 35),\n",
       " (98, 33),\n",
       " (97, 32),\n",
       " (104, 30),\n",
       " (103, 30),\n",
       " (95, 30)]"
      ]
     },
     "execution_count": 5,
     "metadata": {},
     "output_type": "execute_result"
    }
   ],
   "source": [
    "#choose max_length for phobert model based on the input length\n",
    "\n",
    "max_length = 0\n",
    "list_len=[]\n",
    "for sentence in train_sentences:\n",
    "    length = len(tokenizer.tokenize(sentence))\n",
    "    list_len.append(length)\n",
    "\n",
    "from collections import Counter\n",
    "Counter(list_len).most_common(100)\n"
   ]
  },
  {
   "cell_type": "code",
   "execution_count": 13,
   "metadata": {},
   "outputs": [
    {
     "name": "stderr",
     "output_type": "stream",
     "text": [
      "c:\\Users\\ADMIN\\AppData\\Local\\Programs\\Python\\Python311\\Lib\\site-packages\\transformers\\tokenization_utils_base.py:1601: FutureWarning: `clean_up_tokenization_spaces` was not set. It will be set to `True` by default. This behavior will be depracted in transformers v4.45, and will be then set to `False` by default. For more details check this issue: https://github.com/huggingface/transformers/issues/31884\n",
      "  warnings.warn(\n"
     ]
    }
   ],
   "source": [
    "from transformers import AutoTokenizer\n",
    "\n",
    "tokenizer = AutoTokenizer.from_pretrained('vinai/phobert-base-v2')"
   ]
  },
  {
   "cell_type": "code",
   "execution_count": 27,
   "metadata": {},
   "outputs": [],
   "source": [
    "from sklearn import preprocessing\n",
    "\n",
    "le = preprocessing.LabelEncoder()\n",
    "le.fit(train_labels)\n",
    "encoded_labels = le.transform(train_labels)\n",
    "encoded_dev_labels = le.transform(dev_labels)"
   ]
  },
  {
   "cell_type": "code",
   "execution_count": 7,
   "metadata": {},
   "outputs": [
    {
     "data": {
      "text/plain": [
       "2"
      ]
     },
     "execution_count": 7,
     "metadata": {},
     "output_type": "execute_result"
    }
   ],
   "source": [
    "len(le.classes_)"
   ]
  },
  {
   "cell_type": "code",
   "execution_count": 28,
   "metadata": {},
   "outputs": [
    {
     "name": "stderr",
     "output_type": "stream",
     "text": [
      "c:\\Users\\ADMIN\\AppData\\Local\\Programs\\Python\\Python311\\Lib\\site-packages\\transformers\\tokenization_utils_base.py:2870: FutureWarning: The `pad_to_max_length` argument is deprecated and will be removed in a future version, use `padding=True` or `padding='longest'` to pad to the longest sequence in the batch, or use `padding='max_length'` to pad to a max length. In this case, you can give a specific length with `max_length` (e.g. `max_length=45`) or leave max_length to None to pad to the maximal input size of the model (e.g. 512 for Bert).\n",
      "  warnings.warn(\n"
     ]
    },
    {
     "name": "stdout",
     "output_type": "stream",
     "text": [
      "Original:  trần huỳnh dơ đi\n",
      "Token IDs: tensor([    0,  2834, 52111, 28590,    57,     2,     1,     1,     1,     1,\n",
      "            1,     1,     1,     1,     1,     1,     1,     1,     1,     1])\n"
     ]
    }
   ],
   "source": [
    "def encoder_generator(sentences,labels):\n",
    "    \n",
    "    sent_index = []\n",
    "    input_ids = []\n",
    "    attention_masks =[]\n",
    "\n",
    "    for index,sent in enumerate(sentences):\n",
    "        \n",
    "        sent_index.append(index)\n",
    "        \n",
    "        encoded_dict = tokenizer.encode_plus(sent,\n",
    "                                             add_special_tokens=True,\n",
    "                                             max_length=20,\n",
    "                                             pad_to_max_length=True,\n",
    "                                             truncation = True,\n",
    "                                             return_attention_mask=True,\n",
    "                                             return_tensors='pt')        \n",
    "        input_ids.append(encoded_dict['input_ids'])\n",
    "\n",
    "        attention_masks.append(encoded_dict['attention_mask'])\n",
    "\n",
    "    input_ids = torch.cat(input_ids,dim=0)\n",
    "    attention_masks = torch.cat(attention_masks,dim=0)\n",
    "    labels = torch.tensor(labels)\n",
    "    sent_index = torch.tensor(sent_index)\n",
    "\n",
    "    return sent_index,input_ids,attention_masks,labels\n",
    "\n",
    "train_sent_index,train_input_ids,train_attention_masks,train_encoded_label_tensors = encoder_generator(train_sentences,encoded_labels)\n",
    "dev_sent_index,dev_input_ids,dev_attention_masks,dev_encoded_label_tensors = encoder_generator(dev_sentences,encoded_dev_labels)\n",
    "print('Original: ', train_sentences[0])\n",
    "print('Token IDs:', train_input_ids[0])\n"
   ]
  },
  {
   "cell_type": "code",
   "execution_count": 29,
   "metadata": {},
   "outputs": [
    {
     "name": "stdout",
     "output_type": "stream",
     "text": [
      "Original:  ['trần huỳnh dơ đi', 'phương august =))))', 'hcm hôm_nay (4.3). mỹ tự_hào đối_tác việt_nam phòng_chống covid-19 knaper, thiết_bị góp_phần tăng_cường năng_lực việt_nam phòng_chống covid-19', 'triệt_phá đường_dây mua_bán vũ_khí youtube, 5 2.000 đơn hàng mới_đây, công_an tỉnh thanh_hoá phối_hợp cục cảnh_sát hình_sự, công_an công_an tp.hcm triệt_phá đường_dây mua_bán, tàng_trữ trái_phép vũ_khí quân_dụng, vũ_khí thể_thao, công_cụ hỗ_trợ không_gian mạng', 'dính: (', 'đợt toàn tầng_lớp đại_gia nhờ.có tiền đi du_lịch kug khổ', 'this girl my is rude evil and wicked in every way and in every episode, she comes in. duong & toan is the best most amazing couple. love watching old episode.', 'tiểu_thư xinh_đẹp lạ quét sơn váy kết xem phim tập trọn nha (99):', 'chúc thầy 2011', 'minh ngọc hết_hồn?']\n",
      "Token IDs: tensor([[    0,  2834, 52111, 28590,    57,     2,     1,     1,     1,     1,\n",
      "             1,     1,     1,     1,     1,     1,     1,     1,     1,     1],\n",
      "        [    0,  1607,  4363, 51657,  1204, 23196, 37272, 37272, 37272,    19,\n",
      "             2,     1,     1,     1,     1,     1,     1,     1,     1,     1],\n",
      "        [    0,  1340,  2749,  1113, 14157,  4126,  2147, 15831,  9105,  2248,\n",
      "          1341, 56444,   542,  2137,  2479, 23126,   770,  1195,  1493,     2],\n",
      "        [    0,  9015,  3261,  1862,   991, 33793,  3164,  5329,     4,   173,\n",
      "          2581,   807,   119, 52034, 28408,  1581,     4,   863,    98,     2],\n",
      "        [    0,  1236,  7178,  2008,    27,    20,     2,     1,     1,     1,\n",
      "             1,     1,     1,     1,     1,     1,     1,     1,     1,     1],\n",
      "        [    0,  1039,   668,  5017,  2267, 58209,  2586,    10,   123,    57,\n",
      "           388, 11316,  2302,  3165,     2,     1,     1,     1,     1,     1],\n",
      "        [    0, 22304,  4105, 10601,  2573,  5172,  1993, 10192,  4975,  2689,\n",
      "          2303, 16443,  4367,   858, 40982,  1231, 10263,  2689,   858,     2],\n",
      "        [    0, 14390,  1728,  1410,  4613,  2752,  2084,  2902,   305,   266,\n",
      "           834,  3945,  7045, 14157,  9986, 37272,    27,     2,     1,     1],\n",
      "        [    0,  3788,  1249,  1034,     2,     1,     1,     1,     1,     1,\n",
      "             1,     1,     1,     1,     1,     1,     1,     1,     1,     1],\n",
      "        [    0,  9534,  5147, 22938, 17064,  1301,   114,     2,     1,     1,\n",
      "             1,     1,     1,     1,     1,     1,     1,     1,     1,     1]])\n"
     ]
    }
   ],
   "source": [
    "print('Original: ', train_sentences[:10])\n",
    "print('Token IDs:', train_input_ids[:10])"
   ]
  },
  {
   "cell_type": "code",
   "execution_count": 30,
   "metadata": {},
   "outputs": [
    {
     "name": "stdout",
     "output_type": "stream",
     "text": [
      "train data samples is 49321\n",
      "valid data samples is 6165\n"
     ]
    }
   ],
   "source": [
    "# Connvert train, dev input by using TensorDataset\n",
    "\n",
    "from torch.utils.data import TensorDataset,random_split\n",
    "\n",
    "train_dataset = TensorDataset(train_input_ids,train_attention_masks,train_encoded_label_tensors)\n",
    "dev_dataset = TensorDataset(dev_input_ids,dev_attention_masks,dev_encoded_label_tensors)\n",
    "\n",
    "print('train data samples is {}'.format(len(train_dataset)))\n",
    "print(\"valid data samples is {}\".format(len(dev_dataset)))"
   ]
  },
  {
   "cell_type": "code",
   "execution_count": 31,
   "metadata": {},
   "outputs": [],
   "source": [
    "from torch.utils.data import DataLoader,RandomSampler,SequentialSampler\n",
    "\n",
    "bs=32\n",
    "\n",
    "device = torch.device('cuda' if torch.cuda.is_available() else 'cpu')\n",
    "\n",
    "train_data_loader = DataLoader(train_dataset,\n",
    "                              sampler=RandomSampler(train_dataset),\n",
    "                              batch_size=bs)\n",
    "valid_data_loader = DataLoader(dev_dataset,\n",
    "                              sampler=RandomSampler(dev_dataset),\n",
    "                              batch_size=bs)"
   ]
  },
  {
   "cell_type": "code",
   "execution_count": 32,
   "metadata": {},
   "outputs": [
    {
     "name": "stderr",
     "output_type": "stream",
     "text": [
      "Some weights of RobertaModel were not initialized from the model checkpoint at vinai/phobert-base-v2 and are newly initialized: ['roberta.pooler.dense.bias', 'roberta.pooler.dense.weight']\n",
      "You should probably TRAIN this model on a down-stream task to be able to use it for predictions and inference.\n"
     ]
    }
   ],
   "source": [
    "from transformers import AutoModel\n",
    "\n",
    "phoBert = AutoModel.from_pretrained('vinai/phobert-base-v2')\n",
    "phoBert = phoBert.to(device)"
   ]
  },
  {
   "cell_type": "code",
   "execution_count": 33,
   "metadata": {},
   "outputs": [],
   "source": [
    "import torch.nn as nn\n",
    "import torch.nn.functional as F\n",
    "\n",
    "class CNN(nn.Module):\n",
    "    def __init__(self, embedding_dim, n_filters, filter_sizes, output_dim, \n",
    "                 dropout, pad_idx):\n",
    "        \n",
    "        super().__init__()\n",
    "        \n",
    "        self.fc_input = nn.Linear(embedding_dim,embedding_dim)\n",
    "        \n",
    "        self.conv_0 = nn.Conv1d(in_channels = embedding_dim, \n",
    "                                out_channels = n_filters, \n",
    "                                kernel_size = filter_sizes[0])\n",
    "        \n",
    "        self.conv_1 = nn.Conv1d(in_channels = embedding_dim, \n",
    "                                out_channels = n_filters, \n",
    "                                kernel_size = filter_sizes[1])\n",
    "        \n",
    "        self.conv_2 = nn.Conv1d(in_channels = embedding_dim, \n",
    "                                out_channels = n_filters, \n",
    "                                kernel_size = filter_sizes[2]) \n",
    "        self.conv_3 = nn.Conv1d(in_channels = embedding_dim, \n",
    "                                out_channels = n_filters, \n",
    "                                kernel_size = filter_sizes[3])\n",
    "\n",
    "        self.fc = nn.Linear(len(filter_sizes) * n_filters, output_dim)\n",
    "        \n",
    "        self.dropout = nn.Dropout(dropout)\n",
    "        \n",
    "    def forward(self, encoded):\n",
    "                \n",
    "        #embedded = [batch size, sent len, emb dim]\n",
    "        embedded = self.fc_input(encoded)\n",
    "        #print(embedded.shape)\n",
    "        \n",
    "        embedded = embedded.permute(0, 2, 1)\n",
    "        #print(embedded.shape)\n",
    "        conved_0 = F.relu(self.conv_0(embedded))\n",
    "        conved_1 = F.relu(self.conv_1(embedded))\n",
    "        conved_2 = F.relu(self.conv_2(embedded))\n",
    "        conved_3 = F.relu(self.conv_3(embedded))\n",
    "            \n",
    "        #conved_n = [batch size, n_filters, sent len - filter_sizes[n] + 1]\n",
    "        \n",
    "        pooled_0 = F.max_pool1d(conved_0, conved_0.shape[2]).squeeze(2)\n",
    "        pooled_1 = F.max_pool1d(conved_1, conved_1.shape[2]).squeeze(2)\n",
    "        pooled_2 = F.max_pool1d(conved_2, conved_2.shape[2]).squeeze(2)\n",
    "        pooled_3 = F.max_pool1d(conved_3, conved_3.shape[2]).squeeze(2)\n",
    "        \n",
    "        #pooled_n = [batch size, n_fibatlters]\n",
    "        \n",
    "        cat = self.dropout(torch.cat((pooled_0, pooled_1, pooled_2, pooled_3), dim = 1))\n",
    "\n",
    "        #cat = [batch size, n_filters * len(filter_sizes)]\n",
    "            \n",
    "        result =  self.fc(cat)\n",
    "        \n",
    "        #print(result.shape)\n",
    "        \n",
    "        return result"
   ]
  },
  {
   "cell_type": "code",
   "execution_count": 34,
   "metadata": {},
   "outputs": [],
   "source": [
    "# Hyperparameters\n",
    "\n",
    "EMBEDDING_DIM = 768 \n",
    "N_FILTERS = 32\n",
    "FILTER_SIZES = [1,2,3,5]\n",
    "OUTPUT_DIM = len(le.classes_)\n",
    "DROPOUT = 0.1\n",
    "PAD_IDX = tokenizer.pad_token_id\n",
    "\n",
    "cnn = CNN(EMBEDDING_DIM, N_FILTERS, FILTER_SIZES, OUTPUT_DIM, DROPOUT, PAD_IDX)\n",
    "cnn = cnn.to(device)"
   ]
  },
  {
   "cell_type": "markdown",
   "metadata": {},
   "source": []
  },
  {
   "cell_type": "markdown",
   "metadata": {},
   "source": [
    "Thiết lập optimizer Adam cho mô hình, kết hợp các tham số từ cả PhoBERT và CNN.\n",
    " Khởi tạo hàm mất mát Cross Entropy, thường được sử dụng cho các bài toán phân loại đa lớp.\n",
    "Hàm mất mát cũng được chuyển sang thiết bị tính toán để sẵn sàng cho quá trình huấn luyện."
   ]
  },
  {
   "cell_type": "code",
   "execution_count": 35,
   "metadata": {},
   "outputs": [],
   "source": [
    "import torch.optim as optim\n",
    "\n",
    "model_prameters = list(phoBert.parameters())+list(cnn.parameters())\n",
    "\n",
    "optimizer = optim.Adam(model_prameters,lr=2e-5,eps=1e-8)\n",
    "criterion = nn.CrossEntropyLoss()\n",
    "criterion = criterion.to(device)"
   ]
  },
  {
   "cell_type": "code",
   "execution_count": 36,
   "metadata": {},
   "outputs": [],
   "source": [
    "\n",
    "def categorical_accuracy(preds, y):\n",
    "    \"\"\"\n",
    "    Returns accuracy per batch, i.e. if you get 8/10 right, this returns 0.8, NOT 8\n",
    "    \"\"\"\n",
    "    max_preds = preds.argmax(dim = 1, keepdim = True) # get the index of the max probability\n",
    "    correct = max_preds.squeeze(1).eq(y)\n",
    "    return correct.sum() / torch.FloatTensor([y.shape[0]])"
   ]
  },
  {
   "cell_type": "code",
   "execution_count": 37,
   "metadata": {},
   "outputs": [],
   "source": [
    "# Def for training\n",
    "\n",
    "from tqdm import tqdm\n",
    "\n",
    "def train():\n",
    "    \n",
    "    epoch_loss = 0\n",
    "    epoch_acc = 0\n",
    "    \n",
    "    phoBert.train()\n",
    "    cnn.train()\n",
    "    \n",
    "    for batch in tqdm(train_data_loader):\n",
    "        b_input_ids = batch[0].to(device)\n",
    "        b_input_mask = batch[1].to(device)\n",
    "        b_labels = batch[2].to(device)\n",
    "        optimizer.zero_grad()\n",
    "        \n",
    "        embedded = phoBert(b_input_ids,b_input_mask)[0]\n",
    "        \n",
    "        predictions = cnn(embedded)\n",
    "        \n",
    "        loss = criterion(predictions, b_labels)\n",
    "        \n",
    "        acc = categorical_accuracy(predictions, b_labels)\n",
    "        \n",
    "        loss.backward()\n",
    "        \n",
    "        optimizer.step()\n",
    "        \n",
    "        epoch_loss += loss.item()\n",
    "        epoch_acc += acc.item()\n",
    "        \n",
    "    return epoch_loss / len(train_data_loader), epoch_acc / len(train_data_loader)"
   ]
  },
  {
   "cell_type": "code",
   "execution_count": 38,
   "metadata": {},
   "outputs": [],
   "source": [
    "# Class for predict label\n",
    "\n",
    "import numpy as np\n",
    "\n",
    "def predictions_labels(preds,labels):\n",
    "    pred = np.argmax(preds,axis=1).flatten()\n",
    "    label = labels.flatten()\n",
    "    return pred,label"
   ]
  },
  {
   "cell_type": "code",
   "execution_count": 39,
   "metadata": {},
   "outputs": [],
   "source": [
    "from sklearn.metrics import classification_report,accuracy_score,f1_score\n",
    "def eval():\n",
    "    epoch_loss = 0\n",
    "    \n",
    "    total_predictions = []\n",
    "    total_true = []\n",
    "    \n",
    "    all_true_labels = []\n",
    "    all_pred_labels = []\n",
    "    \n",
    "    phoBert.eval()\n",
    "    cnn.eval()\n",
    "    \n",
    "    with torch.no_grad():\n",
    "    \n",
    "        for batch in tqdm(valid_data_loader):\n",
    "            b_input_ids = batch[0].to(device)\n",
    "            b_input_mask = batch[1].to(device)\n",
    "            b_labels = batch[2].to(device)\n",
    "\n",
    "            embedded = phoBert(b_input_ids,b_input_mask)[0]\n",
    "            predictions = cnn(embedded)\n",
    "\n",
    "            loss = criterion(predictions, b_labels)\n",
    "            epoch_loss += loss.item()\n",
    "            \n",
    "            predictions = predictions.detach().cpu().numpy()\n",
    "\n",
    "            label_ids = b_labels.to('cpu').numpy()\n",
    "    \n",
    "            pred,true = predictions_labels(predictions,label_ids)\n",
    "        \n",
    "            all_pred_labels.extend(pred)\n",
    "            all_true_labels.extend(true)\n",
    "\n",
    "    print(classification_report(all_pred_labels,all_true_labels))\n",
    "    avg_val_accuracy = accuracy_score(all_pred_labels,all_true_labels)\n",
    "    macro_f1_score = f1_score(all_pred_labels,all_true_labels,average='macro')\n",
    "    \n",
    "    avg_val_loss = epoch_loss/len(valid_data_loader)\n",
    "\n",
    "    print(\"accuracy = {0:.2f}\".format(avg_val_accuracy))\n",
    "    return avg_val_loss,avg_val_accuracy,macro_f1_score"
   ]
  },
  {
   "cell_type": "code",
   "execution_count": 40,
   "metadata": {},
   "outputs": [],
   "source": [
    "# Time for training\n",
    "\n",
    "import time\n",
    "def epoch_time(start_time, end_time):\n",
    "    elapsed_time = end_time - start_time\n",
    "    elapsed_mins = int(elapsed_time / 60)\n",
    "    elapsed_secs = int(elapsed_time - (elapsed_mins * 60))\n",
    "    return elapsed_mins, elapsed_secs"
   ]
  },
  {
   "cell_type": "code",
   "execution_count": null,
   "metadata": {},
   "outputs": [
    {
     "name": "stderr",
     "output_type": "stream",
     "text": [
      "  0%|          | 0/1542 [00:00<?, ?it/s]"
     ]
    },
    {
     "name": "stderr",
     "output_type": "stream",
     "text": [
      " 10%|▉         | 150/1542 [12:14<1:44:33,  4.51s/it]"
     ]
    }
   ],
   "source": [
    "epochs = 5\n",
    "\n",
    "best_macro_f1 = float('0')\n",
    "\n",
    "for epoch in range(epochs):\n",
    "    \n",
    "    start_time = time.time()\n",
    "    train_loss,train_acc = train()\n",
    "    valid_loss,valid_acc,macro_f1 = eval()\n",
    "    end_time = time.time()\n",
    "    \n",
    "        \n",
    "    epoch_mins, epoch_secs = epoch_time(start_time, end_time)\n",
    "        \n",
    "    if macro_f1 > best_macro_f1:\n",
    "        best_macro_f1 = macro_f1\n",
    "        torch.save(phoBert,'./phobert.pt')\n",
    "        torch.save(cnn,'./cnn.pt')\n",
    "        print(\"model saved\")\n",
    "    \n",
    "    print(f'Epoch: {epoch+1:02} | Epoch Time: {epoch_mins}m {epoch_secs}s')\n",
    "    print(f'\\tTrain Loss: {train_loss:.3f} | Train acc: {train_acc*100:.2f}%')\n",
    "    print(f'\\t Val. Loss: {valid_loss:.3f} |  Val. acc: {valid_acc*100:.2f}%')\n",
    "    print(f'\\t Val. Loss: {valid_loss:.3f} |  Val. F1: {macro_f1*100:.2f}%')\n",
    "    print('=============Epoch Ended==============')"
   ]
  },
  {
   "cell_type": "code",
   "execution_count": 31,
   "metadata": {},
   "outputs": [
    {
     "data": {
      "text/plain": [
       "CNN(\n",
       "  (fc_input): Linear(in_features=768, out_features=768, bias=True)\n",
       "  (conv_0): Conv1d(768, 32, kernel_size=(1,), stride=(1,))\n",
       "  (conv_1): Conv1d(768, 32, kernel_size=(2,), stride=(1,))\n",
       "  (conv_2): Conv1d(768, 32, kernel_size=(3,), stride=(1,))\n",
       "  (conv_3): Conv1d(768, 32, kernel_size=(5,), stride=(1,))\n",
       "  (fc): Linear(in_features=128, out_features=2, bias=True)\n",
       "  (dropout): Dropout(p=0.1, inplace=False)\n",
       ")"
      ]
     },
     "execution_count": 31,
     "metadata": {},
     "output_type": "execute_result"
    }
   ],
   "source": [
    "import torch\n",
    "phoBert = torch.load(r'./phobert.pt')\n",
    "cnn = torch.load(r'./cnn.pt')\n",
    "phoBert.eval()\n",
    "cnn.eval()"
   ]
  },
  {
   "cell_type": "code",
   "execution_count": 38,
   "metadata": {},
   "outputs": [
    {
     "name": "stderr",
     "output_type": "stream",
     "text": [
      "c:\\Users\\ADMIN\\AppData\\Local\\Programs\\Python\\Python311\\Lib\\site-packages\\transformers\\tokenization_utils_base.py:2870: FutureWarning: The `pad_to_max_length` argument is deprecated and will be removed in a future version, use `padding=True` or `padding='longest'` to pad to the longest sequence in the batch, or use `padding='max_length'` to pad to a max length. In this case, you can give a specific length with `max_length` (e.g. `max_length=45`) or leave max_length to None to pad to the maximal input size of the model (e.g. 512 for Bert).\n",
      "  warnings.warn(\n",
      "100%|██████████| 32/32 [00:23<00:00,  1.36it/s]\n"
     ]
    }
   ],
   "source": [
    "test_sent_index, test_input_ids, test_attention_masks, test_encoded_label_tensors = encoder_generator(test_text,test_label)\n",
    "test_dataset = TensorDataset(test_input_ids,test_attention_masks,test_encoded_label_tensors)\n",
    "\n",
    "test_data_loader = DataLoader(test_dataset,\n",
    "                              sampler=RandomSampler(test_dataset),\n",
    "                              batch_size=bs)\n",
    "\n",
    "all_pred_labels = []\n",
    "all_true_labels = []\n",
    "\n",
    "with torch.no_grad():\n",
    "  for batch in tqdm(test_data_loader):\n",
    "    b_input_ids = batch[0].to(device)\n",
    "    b_input_mask = batch[1].to(device)\n",
    "    b_labels = batch[2].to(device)\n",
    "    embedded = phoBert(b_input_ids,b_input_mask)[0]\n",
    "    predictions = cnn(embedded)\n",
    "\n",
    "    \n",
    "    predictions = predictions.detach().cpu().numpy()\n",
    "\n",
    "    label_ids = b_labels.to('cpu').numpy()\n",
    "\n",
    "    pred, true = predictions_labels(predictions, label_ids)\n",
    "\n",
    "    all_pred_labels.extend(pred)\n",
    "    all_true_labels.extend(true)"
   ]
  },
  {
   "cell_type": "code",
   "execution_count": 39,
   "metadata": {},
   "outputs": [
    {
     "name": "stdout",
     "output_type": "stream",
     "text": [
      "Accuracy: 90.10%\n",
      "              precision    recall  f1-score   support\n",
      "\n",
      "           0       0.93      0.96      0.95       890\n",
      "           1       0.56      0.44      0.49       110\n",
      "\n",
      "    accuracy                           0.90      1000\n",
      "   macro avg       0.75      0.70      0.72      1000\n",
      "weighted avg       0.89      0.90      0.90      1000\n",
      "\n",
      "Confusion Matrix:\n",
      "[[853  37]\n",
      " [ 62  48]]\n"
     ]
    }
   ],
   "source": [
    "from sklearn.metrics import classification_report, accuracy_score, confusion_matrix\n",
    "\n",
    "# Tính toán độ chính xác (accuracy)\n",
    "accuracy = accuracy_score(all_true_labels, all_pred_labels)\n",
    "print(f'Accuracy: {accuracy * 100:.2f}%')\n",
    "\n",
    "# Báo cáo chi tiết precision, recall, F1-score cho từng lớp\n",
    "report = classification_report(all_true_labels, all_pred_labels)\n",
    "print(report)\n",
    "\n",
    "# Ma trận nhầm lẫn (Confusion Matrix)\n",
    "conf_matrix = confusion_matrix(all_true_labels, all_pred_labels)\n",
    "print(\"Confusion Matrix:\")\n",
    "print(conf_matrix)\n"
   ]
  },
  {
   "cell_type": "markdown",
   "metadata": {},
   "source": [
    "Kết quả đánh giá mô hình của bạn cho thấy một độ chính xác (accuracy) tổng thể là **90.10%**, nhưng có một sự chênh lệch rõ ràng giữa các chỉ số của hai lớp.\n",
    "\n",
    "### Phân tích chi tiết:\n",
    "1. **Lớp 0** (có 890 mẫu):\n",
    "   - **Precision**: 0.93 (Tức là trong số các mẫu được dự đoán là 0, có 93% là đúng).\n",
    "   - **Recall**: 0.96 (Tức là trong số các mẫu thực sự thuộc lớp 0, 96% được dự đoán đúng).\n",
    "   - **F1-score**: 0.95 (Đây là thước đo kết hợp giữa precision và recall, chỉ ra rằng mô hình hoạt động rất tốt với lớp 0).\n",
    "\n",
    "2. **Lớp 1** (chỉ có 110 mẫu):\n",
    "   - **Precision**: 0.56 (Tức là chỉ 56% trong số các mẫu được dự đoán là 1 là đúng).\n",
    "   - **Recall**: 0.44 (Tức là chỉ 44% trong số các mẫu thực sự thuộc lớp 1 được dự đoán đúng).\n",
    "   - **F1-score**: 0.49 (Hiệu suất của mô hình đối với lớp 1 là khá thấp, có thể do số lượng mẫu không cân bằng).\n",
    "\n",
    "3. **Confusion Matrix**:\n",
    "   - Mô hình dự đoán đúng 853 mẫu cho lớp 0, nhưng nhầm 37 mẫu lớp 0 thành lớp 1.\n",
    "   - Đối với lớp 1, mô hình dự đoán đúng 48 mẫu nhưng nhầm 62 mẫu thành lớp 0.\n",
    "\n",
    "### Hướng cải thiện:\n",
    "1. **Xử lý dữ liệu không cân bằng**: Vì lớp 1 có ít mẫu hơn, mô hình đang gặp khó khăn khi dự đoán chính xác lớp này. Bạn có thể:\n",
    "   - Sử dụng **kỹ thuật lấy mẫu** như **over-sampling** lớp thiểu số (lớp 1) hoặc **under-sampling** lớp đa số (lớp 0).\n",
    "   - Áp dụng **kỹ thuật cân bằng trọng số** (class weight balancing) trong hàm mất mát để giúp mô hình chú ý hơn đến lớp thiểu số.\n",
    "   - Sử dụng **SMOTE** (Synthetic Minority Over-sampling Technique) để tạo thêm dữ liệu cho lớp thiểu số.\n",
    "\n",
    "2. **Tối ưu mô hình**:\n",
    "   - Thử điều chỉnh siêu tham số (hyperparameter tuning) để cải thiện hiệu suất của mô hình, đặc biệt là đối với lớp 1.\n",
    "   - Áp dụng các mô hình phức tạp hơn hoặc thử nghiệm thêm với các kiến trúc mạng khác như BERT hoặc PhoBERT fine-tuning.\n",
    "\n",
    "3. **Thử các thước đo khác**: Vì dữ liệu không cân bằng, chỉ số **macro F1-score** (0.72) sẽ phản ánh tốt hơn hiệu suất của mô hình trên cả hai lớp, so với chỉ số accuracy.\n",
    "\n",
    "Bạn có thể bắt đầu bằng việc cải thiện cân bằng lớp trước, vì đây là một trong những nguyên nhân chính khiến hiệu suất của mô hình không đồng đều."
   ]
  },
  {
   "cell_type": "code",
   "execution_count": 40,
   "metadata": {},
   "outputs": [
    {
     "data": {
      "image/png": "[encoded data removed]",
      "text/plain": [
       "<Figure size 600x500 with 1 Axes>"
      ]
     },
     "metadata": {},
     "output_type": "display_data"
    }
   ],
   "source": [
    "import seaborn as sns\n",
    "import matplotlib.pyplot as plt\n",
    "from sklearn.metrics import confusion_matrix\n",
    "\n",
    "# Tạo Confusion Matrix\n",
    "conf_matrix = confusion_matrix(all_true_labels, all_pred_labels)\n",
    "\n",
    "# Trực quan hóa\n",
    "plt.figure(figsize=(6,5))\n",
    "sns.heatmap(conf_matrix, annot=True, fmt='d', cmap='Blues', cbar=False, xticklabels=[0, 1], yticklabels=[0, 1])\n",
    "plt.title('Confusion Matrix')\n",
    "plt.xlabel('Predicted Label')\n",
    "plt.ylabel('True Label')\n",
    "plt.show()\n"
   ]
  },
  {
   "cell_type": "code",
   "execution_count": 41,
   "metadata": {},
   "outputs": [
    {
     "data": {
      "image/png": "[encoded data removed]",
      "text/plain": [
       "<Figure size 640x480 with 1 Axes>"
      ]
     },
     "metadata": {},
     "output_type": "display_data"
    }
   ],
   "source": [
    "import numpy as np\n",
    "\n",
    "# Giá trị các chỉ số\n",
    "precision = [0.93, 0.56]  # precision của từng lớp\n",
    "recall = [0.96, 0.44]     # recall của từng lớp\n",
    "f1_score = [0.95, 0.49]   # F1-score của từng lớp\n",
    "\n",
    "# Danh sách các lớp\n",
    "classes = ['Class 0', 'Class 1']\n",
    "\n",
    "# Tạo biểu đồ\n",
    "x = np.arange(len(classes))  # Vị trí của các lớp\n",
    "width = 0.2  # Độ rộng của cột\n",
    "\n",
    "# Tạo figure và các cột\n",
    "fig, ax = plt.subplots()\n",
    "rects1 = ax.bar(x - width, precision, width, label='Precision')\n",
    "rects2 = ax.bar(x, recall, width, label='Recall')\n",
    "rects3 = ax.bar(x + width, f1_score, width, label='F1-score')\n",
    "\n",
    "# Thêm nhãn và tiêu đề\n",
    "ax.set_xlabel('Classes')\n",
    "ax.set_ylabel('Scores')\n",
    "ax.set_title('Precision, Recall, F1-Score per Class')\n",
    "ax.set_xticks(x)\n",
    "ax.set_xticklabels(classes)\n",
    "ax.legend()\n",
    "\n",
    "# Hiển thị giá trị trên các cột\n",
    "def autolabel(rects):\n",
    "    for rect in rects:\n",
    "        height = rect.get_height()\n",
    "        ax.annotate(f'{height:.2f}',\n",
    "                    xy=(rect.get_x() + rect.get_width() / 2, height),\n",
    "                    xytext=(0, 3),  # 3 points vertical offset\n",
    "                    textcoords=\"offset points\",\n",
    "                    ha='center', va='bottom')\n",
    "\n",
    "autolabel(rects1)\n",
    "autolabel(rects2)\n",
    "autolabel(rects3)\n",
    "\n",
    "fig.tight_layout()\n",
    "plt.show()\n"
   ]
  }
 ],
 "metadata": {
  "kernelspec": {
   "display_name": "Python 3",
   "language": "python",
   "name": "python3"
  },
  "language_info": {
   "codemirror_mode": {
    "name": "ipython",
    "version": 3
   },
   "file_extension": ".py",
   "mimetype": "text/x-python",
   "name": "python",
   "nbconvert_exporter": "python",
   "pygments_lexer": "ipython3",
   "version": "3.11.5"
  }
 },
 "nbformat": 4,
 "nbformat_minor": 2
}
